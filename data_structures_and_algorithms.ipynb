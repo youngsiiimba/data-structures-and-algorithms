{
  "nbformat": 4,
  "nbformat_minor": 0,
  "metadata": {
    "colab": {
      "provenance": [],
      "toc_visible": true,
      "authorship_tag": "ABX9TyOUFtz8ILvwnN2JvdOuWuoV",
      "include_colab_link": true
    },
    "kernelspec": {
      "name": "python3",
      "display_name": "Python 3"
    },
    "language_info": {
      "name": "python"
    }
  },
  "cells": [
    {
      "cell_type": "markdown",
      "metadata": {
        "id": "view-in-github",
        "colab_type": "text"
      },
      "source": [
        "<a href=\"https://colab.research.google.com/github/youngsiiimba/data-structures-and-algorithms/blob/main/data_structures_and_algorithms.ipynb\" target=\"_parent\"><img src=\"https://colab.research.google.com/assets/colab-badge.svg\" alt=\"Open In Colab\"/></a>"
      ]
    },
    {
      "cell_type": "markdown",
      "source": [
        "# Data structures and algorithms"
      ],
      "metadata": {
        "id": "Jg85fmJQ4h_N"
      }
    },
    {
      "cell_type": "markdown",
      "source": [
        "## Graph Problems"
      ],
      "metadata": {
        "id": "BfgGsNbN4dug"
      }
    },
    {
      "cell_type": "markdown",
      "source": [
        "### 200. Number of Islands\n",
        "\n",
        "Given an `m x n` 2D binary grid `grid` which represents a map of `'1'`s (land) and `'0'`s (water), return the number of islands.\n",
        "\n",
        "An island is surrounded by water and is formed by connecting adjacent lands horizontally or vertically. You may assume all four edges of the grid are all surrounded by water.\n",
        "\n",
        "\n",
        "Example 1:\n",
        "```\n",
        "Input: grid = [\n",
        "  [\"1\",\"1\",\"1\",\"1\",\"0\"],\n",
        "  [\"1\",\"1\",\"0\",\"1\",\"0\"],\n",
        "  [\"1\",\"1\",\"0\",\"0\",\"0\"],\n",
        "  [\"0\",\"0\",\"0\",\"0\",\"0\"]\n",
        "]\n",
        "Output: 1\n",
        "```\n",
        "\n",
        "Example 2:\n",
        "```\n",
        "Input: grid = [\n",
        "  [\"1\",\"1\",\"0\",\"0\",\"0\"],\n",
        "  [\"1\",\"1\",\"0\",\"0\",\"0\"],\n",
        "  [\"0\",\"0\",\"1\",\"0\",\"0\"],\n",
        "  [\"0\",\"0\",\"0\",\"1\",\"1\"]\n",
        "]\n",
        "Output: 3\n",
        "```"
      ],
      "metadata": {
        "id": "UrQld9P93luv"
      }
    },
    {
      "cell_type": "code",
      "execution_count": 1,
      "metadata": {
        "id": "1_hOn9e13Zyi"
      },
      "outputs": [],
      "source": [
        "grid1 = [\n",
        "  [\"1\",\"1\",\"1\",\"1\",\"0\"],\n",
        "  [\"1\",\"1\",\"0\",\"1\",\"0\"],\n",
        "  [\"1\",\"1\",\"0\",\"0\",\"0\"],\n",
        "  [\"0\",\"0\",\"0\",\"0\",\"0\"]\n",
        "]\n",
        "output1 = 1\n",
        "\n",
        "grid2 = [\n",
        "  [\"1\",\"1\",\"0\",\"0\",\"0\"],\n",
        "  [\"1\",\"1\",\"0\",\"0\",\"0\"],\n",
        "  [\"0\",\"0\",\"1\",\"0\",\"0\"],\n",
        "  [\"0\",\"0\",\"0\",\"1\",\"1\"]\n",
        "]\n",
        "output2 = 3"
      ]
    },
    {
      "cell_type": "markdown",
      "source": [
        "**Quick recap on how to use sets and queus in Python3**"
      ],
      "metadata": {
        "id": "Ln32J6kt5EEB"
      }
    },
    {
      "cell_type": "code",
      "source": [
        "# quick intro on how to use a set() in python\n",
        "visit = set()\n",
        "visit.add((5, 6))\n",
        "visit.add((6,7))\n",
        "visit.add(8)\n",
        "if (6,7) in visit: print(\"True\")\n",
        "\n",
        "\n",
        "print(f\"Here is an set: {visit}\")"
      ],
      "metadata": {
        "colab": {
          "base_uri": "https://localhost:8080/"
        },
        "id": "TqLFI1Tm6f1v",
        "outputId": "cfb6427e-0ab2-40dd-8d7f-653a3391d3df"
      },
      "execution_count": 77,
      "outputs": [
        {
          "output_type": "stream",
          "name": "stdout",
          "text": [
            "True\n",
            "Here is an set: {8, (6, 7), (5, 6)}\n"
          ]
        }
      ]
    },
    {
      "cell_type": "code",
      "source": [
        "# quick into on how to use queues in python\n",
        "import collections\n",
        "q = collections.deque()\n",
        "q.append((5, 6))\n",
        "q.append((7, 8))\n",
        "q.append((9, 10))\n",
        "\n",
        "print(f\"The first element of the queue is {q[0]}:\")\n",
        "\n",
        "print(f\"The entire queue: {q}\")\n",
        "\n",
        "#remove the first element of the list\n",
        "q.popleft()\n",
        "print(f\"What the rest of the queue looks like after we use the popleft() function :{q}\")"
      ],
      "metadata": {
        "colab": {
          "base_uri": "https://localhost:8080/"
        },
        "id": "K4nLnVtL9Ew6",
        "outputId": "66e61fbc-0ae8-43ae-e2e7-4caa5548b8cf"
      },
      "execution_count": 82,
      "outputs": [
        {
          "output_type": "stream",
          "name": "stdout",
          "text": [
            "The first element of the queue is (5, 6):\n",
            "The entire queue: deque([(5, 6), (7, 8), (9, 10)])\n",
            "What the rest of the queue looks like after we use the popleft() function :deque([(7, 8), (9, 10)])\n"
          ]
        }
      ]
    },
    {
      "cell_type": "markdown",
      "source": [
        "#### Solution"
      ],
      "metadata": {
        "id": "cHB_qDWUH2q3"
      }
    },
    {
      "cell_type": "code",
      "source": [
        "from typing import List #To be able to annotate what types our list should accept, we need to use \"typing.List\"\n",
        "import collections\n",
        "class Solution:\n",
        "  #breadth-first search solution\n",
        "    def numIslands(self, grid: List[List[str]]) -> int:\n",
        "      if not grid:\n",
        "        return 0\n",
        "      \n",
        "      rows, cols = len(grid), len(grid[0])\n",
        "      visit = set()\n",
        "      islands = 0 \n",
        "\n",
        "      # perform breadth-first search until the queue is empty. \n",
        "      def bfs(r, c):\n",
        "        # breadth-first search is not a recursive alg it's an iterative algorithm so we need a data structure for memory \n",
        "        q = collections.deque()\n",
        "        visit.add((r, c))\n",
        "        q.append((r, c))\n",
        "        \n",
        "        # while our queue is not empty, that means we going to be expanding our island\n",
        "        while q:\n",
        "          #using popleft() function makes this function breadth-first search | using pop() function makes it depth-first search\n",
        "          row, col = q.popleft()\n",
        "          # direction to the right, direction to the left, direction above , direction below\n",
        "          directions = [[1,0], [-1,0], [0,1], [0, -1]]\n",
        "          \n",
        "          #for each of these directions\n",
        "          for dr, dc in directions:\n",
        "            r = row + dr\n",
        "            c = col + dc\n",
        "            #check if this position is inbounds and it's a land position and it hasn't already been visited\n",
        "            if (r in range(rows) and c in range(cols) and grid[r][c] == \"1\" and (r,c) not in visit):\n",
        "              # if it's true that means we can add it to our queue so we can also run bfs of that cell/piece of land \n",
        "              q.append((r,c))\n",
        "              # we also mark it as visited so that we don't visit it twice\n",
        "              visit.add((r,c))\n",
        " \n",
        "      for r in range(rows):\n",
        "        for c in range(cols):\n",
        "          if grid[r][c] == \"1\" and (r,c) not in visit:\n",
        "             #run breadth-first search on that row and coloumn to find more \"land\"\n",
        "             bfs(r,c)\n",
        "             islands += 1\n",
        "      return islands"
      ],
      "metadata": {
        "id": "wqvPAFc94pN1"
      },
      "execution_count": 70,
      "outputs": []
    },
    {
      "cell_type": "code",
      "source": [
        "print(f\"Test case 1: {Solution().numIslands(grid1) == output1}\")\n",
        "print(f\"Test case 2: {Solution().numIslands(grid1) == output1}\")"
      ],
      "metadata": {
        "colab": {
          "base_uri": "https://localhost:8080/"
        },
        "id": "W_ED5szhDiK1",
        "outputId": "791bbd19-6e3b-4352-da4d-65cd9f82477f"
      },
      "execution_count": 73,
      "outputs": [
        {
          "output_type": "stream",
          "name": "stdout",
          "text": [
            "Test case 1: True\n",
            "Test case 2: True\n"
          ]
        }
      ]
    },
    {
      "cell_type": "code",
      "source": [
        "from typing import List #To be able to annotate what types our list should accept, we need to use \"typing.List\"\n",
        "import collections\n",
        "class Solution:\n",
        "    #depth-first search solution\n",
        "    def numIslands(self, grid: List[List[str]]) -> int:\n",
        "      if not grid:\n",
        "        return 0\n",
        "      \n",
        "      rows, cols = len(grid), len(grid[0])\n",
        "      visit = set()\n",
        "      islands = 0 \n",
        "\n",
        "      # perform depth-first search until the queue is empty\n",
        "      def dfs(r, c):\n",
        "        # breadth-first search is not a recursive alg it's an iterative algorithm so we need a data structure for memory \n",
        "        q = collections.deque()\n",
        "        visit.add((r, c))\n",
        "        q.append((r, c))\n",
        "        \n",
        "        # while our queue is not empty, that means we going to be expanding our island\n",
        "        while q:\n",
        "          #using pop() function makes this a depth first search solution| using popleft() function makes this solution a breadth-first search solution\n",
        "          row, col = q.pop()\n",
        "          # direction to the right, direction to the left, direction above , direction below\n",
        "          directions = [[1,0], [-1,0], [0,1], [0, -1]]\n",
        "          \n",
        "          #for each of these directions\n",
        "          for dr, dc in directions:\n",
        "            r = row + dr\n",
        "            c = col + dc\n",
        "            #check if this position is inbounds and it's a land position and it hasn't already been visited\n",
        "            if (r in range(rows) and c in range(cols) and grid[r][c] == \"1\" and (r,c) not in visit):\n",
        "              # if it's true that means we can add it to our queue so we can also run bfs of that cell/piece of land \n",
        "              q.append((r,c))\n",
        "              # we also mark it as visited so that we don't visit it twice\n",
        "              visit.add((r,c))\n",
        " \n",
        "      for r in range(rows):\n",
        "        for c in range(cols):\n",
        "          if grid[r][c] == \"1\" and (r,c) not in visit:\n",
        "             #run depth-first search on that row and coloumn to find more \"land\"\n",
        "             dfs(r,c)\n",
        "             islands += 1\n",
        "      return islands"
      ],
      "metadata": {
        "id": "XwBUamoYNkMO"
      },
      "execution_count": 85,
      "outputs": []
    },
    {
      "cell_type": "code",
      "source": [
        "print(f\"Test case 1: {Solution().numIslands(grid1) == output1}\")\n",
        "print(f\"Test case 2: {Solution().numIslands(grid1) == output1}\")"
      ],
      "metadata": {
        "colab": {
          "base_uri": "https://localhost:8080/"
        },
        "id": "2SRr9BdFN2su",
        "outputId": "a61e9759-4313-4f6b-fb74-f76b9f1ae9ce"
      },
      "execution_count": 86,
      "outputs": [
        {
          "output_type": "stream",
          "name": "stdout",
          "text": [
            "Test case 1: True\n",
            "Test case 2: True\n"
          ]
        }
      ]
    }
  ]
}